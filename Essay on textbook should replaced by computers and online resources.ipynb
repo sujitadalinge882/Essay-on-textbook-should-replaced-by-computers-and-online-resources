{
 "cells": [
  {
   "cell_type": "code",
   "execution_count": null,
   "id": "310d6834",
   "metadata": {},
   "outputs": [],
   "source": [
    "There is an ongoing dispute about textbooks and whether it should be replaced by online resources and \n",
    "advance technology innovations. While some may claim that the online resources are more effective and \n",
    "time efficient for a learner, my view is that advance digital technology have also disadvantaged.\n",
    "There are several reasons why online resources are more effective and time efficient for learners.\n",
    "One of them is that they can study lessons at home with the use of their gadgets as well as browsing on the internet.\n",
    "For instance, most people around the globe are more convenient to get information on the Google website by a click \n",
    "of a finger. Therefore, the online services are tremendously demanded on every institution that could help their \n",
    "students on their studies.Those who argued that the advance technology innovations for students have a different view \n",
    "and it can actually be true. Firstly, for young children that using digital equipment can extremely harmful to \n",
    "their physical health. Like for example, the recent children generation are exposed from the radiation of laptop and \n",
    "the cell phone that causing ailments for some children. Thus, advance technology innovations can be disadvantageous\n",
    "in some ways for us to use it in an appropriate way.Although there are strong contentious for both sides of the\n",
    "arguments, my view is that the advantages outweigh the disadvantages. Therefore, I strongly recommend that\n",
    "governments must continue to educate people from the harmful and benefits of advanced technology.\n",
    "Are you tired of carrying heavy notebooks and textbooks on a daily basis, losing your papers and reading obsolete books?\n",
    "Many students in high school would agree that using notebook computers would be easier, functional and efficient instead \n",
    "of using textbooks and notebooks. If schools would replace textbooks and notebooks with notebook computers, schools\n",
    "would not have to waste a lot of paper, which causes deforestation. Notebook computers would help the environment,\n",
    "ameliorate a student’s organization and attentive skills and they would not have to carry around heavy books on a\n",
    "daily basis.the average school spends $30,000 - $50,000 a year on paper alone. Not only are schools spending too much\n",
    "money on paper, but they are destroying 74 trees a year.One school alone consumes 74 trees and approximately four billon\n",
    "trees worldwide are chopped down yearly for loose papers, notebooks, textbooks and workbooks which is a lot considering \n",
    "that every day, we are losing thousands of trees that result in deforestation and abuse habitats of many animals. \n",
    "Schools constantly need to update textbooks, which leads to killing many trees and can become very costly. \n",
    "However, if students were to use notebook computers, they would have updated resources at all times without having to\n",
    "hurt the environment. Students would not need to buy many school supplies like binders, notebooks, highlighters, pencils \n",
    "and pens when using a notebook computer which can save them money. Many students get bored in class when all they do \n",
    "is read old, used and boring textbooks. Students are not even allowed to highlight or write little notes in the\n",
    "textbook to help them understand better because they have to keep them in good condition for the other students."
   ]
  }
 ],
 "metadata": {
  "kernelspec": {
   "display_name": "Python 3 (ipykernel)",
   "language": "python",
   "name": "python3"
  },
  "language_info": {
   "codemirror_mode": {
    "name": "ipython",
    "version": 3
   },
   "file_extension": ".py",
   "mimetype": "text/x-python",
   "name": "python",
   "nbconvert_exporter": "python",
   "pygments_lexer": "ipython3",
   "version": "3.9.12"
  }
 },
 "nbformat": 4,
 "nbformat_minor": 5
}
